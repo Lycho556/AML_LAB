{
 "cells": [
  {
   "cell_type": "markdown",
   "metadata": {},
   "source": [
    "## Import"
   ]
  },
  {
   "cell_type": "code",
   "execution_count": 10,
   "metadata": {},
   "outputs": [],
   "source": [
    "import glob\n",
    "import torch\n",
    "from torch.utils import data\n",
    "from PIL import Image\n",
    "import numpy as np\n",
    "from torchvision import transforms\n",
    "import matplotlib.pyplot as plt\n",
    "import pandas as pd\n",
    "from ahrs.filters import Madgwick\n",
    "from ahrs.common.orientation import q2euler\n",
    "from PIL import Image, ImageDraw\n",
    "import os\n",
    "\n",
    "#通过创建data.Dataset子类Mydataset来创建输入\n",
    "class Mydataset(data.Dataset):\n",
    "# 类初始化\n",
    "    def __init__(self, root):\n",
    "        self.imgs_path = root\n",
    "# 进行切片\n",
    "    def __getitem__(self, index):\n",
    "        img_path = self.imgs_path[index]\n",
    "        return img_path\n",
    "# 返回长度\n",
    "    def __len__(self):\n",
    "        return len(self.imgs_path)\n"
   ]
  },
  {
   "cell_type": "markdown",
   "metadata": {},
   "source": [
    "## Go through every image in the folder"
   ]
  },
  {
   "cell_type": "code",
   "execution_count": 24,
   "metadata": {},
   "outputs": [
    {
     "name": "stdout",
     "output_type": "stream",
     "text": [
      "5\n",
      "[]\n"
     ]
    }
   ],
   "source": [
    "#使用glob方法来获取数据图片的所有路径\n",
    "all_imgs_path = glob.glob(r'/home/lycho-_-/文档/AML_LAB/row_data/signature_zeyang/*.csv')#数据文件夹路径，根据实际情况更改！\n",
    "new_img_dir = '/home/lycho-_-/文档/AML_LAB/img_data'  \n",
    "new_imu_dir = '/home/lycho-_-/文档/AML_LAB/imu_data'  \n",
    "#循环遍历输出列表中的每个元素，显示出每个图片的路径\n",
    "\n",
    "\n",
    "#利用自定义类Mydataset创建对象weather_dataset\n",
    "signature_dataset = Mydataset(all_imgs_path)\n",
    "print(len(signature_dataset)) #返回文件夹中图片总个数\n",
    "print(signature_dataset[12:15])#切片，显示第12至第十五张图片的路径\n",
    "sinature_datalodaer = torch.utils.data.DataLoader(signature_dataset, batch_size=5) #每次迭代时返回五个数据\n",
    "#print(next(iter(sinature_datalodaer)))\n",
    "\n",
    "\n"
   ]
  },
  {
   "cell_type": "markdown",
   "metadata": {},
   "source": [
    "## Transform IMU"
   ]
  },
  {
   "cell_type": "code",
   "execution_count": 15,
   "metadata": {},
   "outputs": [
    {
     "name": "stdout",
     "output_type": "stream",
     "text": [
      "[1, 1, 1, 1, 1, 0, 0, 0, 0, 0]\n",
      "/home/lycho-_-/文档/AML_LAB/imu_data/True_1ruiqi.csv\n",
      "/home/lycho-_-/文档/AML_LAB/imu_data/True_2ruiqi.csv\n",
      "/home/lycho-_-/文档/AML_LAB/imu_data/True_3ruiqi.csv\n",
      "/home/lycho-_-/文档/AML_LAB/imu_data/True_4ruiqi.csv\n",
      "/home/lycho-_-/文档/AML_LAB/imu_data/True_5ruiqi.csv\n",
      "/home/lycho-_-/文档/AML_LAB/imu_data/False_1ruiqi.csv\n",
      "/home/lycho-_-/文档/AML_LAB/imu_data/False_2ruiqi.csv\n",
      "/home/lycho-_-/文档/AML_LAB/imu_data/False_3ruiqi.csv\n",
      "/home/lycho-_-/文档/AML_LAB/imu_data/False_4ruiqi.csv\n",
      "/home/lycho-_-/文档/AML_LAB/imu_data/False_5ruiqi.csv\n"
     ]
    }
   ],
   "source": [
    "species = ['False','True']\n",
    "species_to_id = dict((c, i) for i, c in enumerate(species))\n",
    "#print(species_to_id)\n",
    "id_to_species = dict((v, k) for k, v in species_to_id.items())\n",
    "#print(id_to_species)\n",
    "all_labels = []\n",
    "#对所有图片路径进行迭代\n",
    "for imu in all_imgs_path:\n",
    "    # 区分出每个img，应该属于什么类别\n",
    "    for i, c in enumerate(species):\n",
    "        if c in imu:\n",
    "            all_labels.append(i)\n",
    "print(all_labels) #得到所有标签 \n",
    "\n",
    "\n",
    "for var in all_imgs_path:\n",
    "    data = pd.read_csv(var)\n",
    "    x_coords=data.values[0::,1]\n",
    "    y_coords=data.values[0::,2]\n",
    "    pressure=data.values[0::,3]\n",
    "    acc_data1 = data[['accel_x', 'accel_y', 'accel_z']].to_numpy()\n",
    "    gyro_data1 = data[['gyro_x', 'gyro_y', 'gyro_z']].to_numpy()\n",
    "    # 初始化Madgwick过滤器，这里假设数据采样率为50Hz\n",
    "    delta_t = 1/50\n",
    "    madgwick = Madgwick(delta_t=delta_t)\n",
    "    q = [1, 0, 0, 0]\n",
    "    # 使用加速度计和陀螺仪数据处理IMU数据，估算姿态\n",
    "    # 不需要显式指定初始四元数，Madgwick过滤器会自动处理\n",
    "    quaternions = np.array([madgwick.updateIMU(q=q,acc=acc_data1[i], gyr=gyro_data1[i]) for i in range(len(acc_data1))])\n",
    "\n",
    "    # 将四元数转换为欧拉角，以便更容易解释\n",
    "    euler_angles = np.array([q2euler(q) for q in quaternions])\n",
    "    euler_angles_df = pd.DataFrame(euler_angles, columns=['roll', 'pitch', 'yaw'])\n",
    "\n",
    "    combined_data = pd.concat([data[['x', 'y', 'pressure']], euler_angles_df], axis=1)\n",
    "\n",
    "      \n",
    "    base_name = os.path.basename(var)  # 获取原始文件的基本名称\n",
    "    new_imu_name = os.path.splitext(base_name)[0] + 'ruiqi.csv'  # 更改文件扩展名为.png\n",
    "    new_imu_path = os.path.join(new_imu_dir, new_imu_name)  # 创建新的文件路径\n",
    "    print(new_imu_path)\n",
    "    # 保存到新的CSV文件\n",
    "    combined_data.to_csv(new_imu_path, index=False)\n",
    "\n",
    "\n",
    "    combined_data.head()\n"
   ]
  },
  {
   "cell_type": "markdown",
   "metadata": {},
   "source": [
    "## Transform IMG"
   ]
  },
  {
   "cell_type": "code",
   "execution_count": 26,
   "metadata": {},
   "outputs": [
    {
     "name": "stdout",
     "output_type": "stream",
     "text": [
      "/home/lycho-_-/文档/AML_LAB/row_data/signature_zeyang/True_1.csv\n",
      "/home/lycho-_-/文档/AML_LAB/row_data/signature_zeyang/True_2.csv\n",
      "/home/lycho-_-/文档/AML_LAB/row_data/signature_zeyang/True_3.csv\n",
      "/home/lycho-_-/文档/AML_LAB/row_data/signature_zeyang/True_4.csv\n",
      "/home/lycho-_-/文档/AML_LAB/row_data/signature_zeyang/True_5.csv\n"
     ]
    }
   ],
   "source": [
    "species = ['False','True']\n",
    "species_to_id = dict((c, i) for i, c in enumerate(species))\n",
    "id_to_species = dict((v, k) for k, v in species_to_id.items())\n",
    "all_labels = []\n",
    "#对所有图片路径进行迭代\n",
    "for imu in all_imgs_path:\n",
    "    # 区分出每个img，应该属于什么类别\n",
    "    for i, c in enumerate(species):\n",
    "        if c in imu:\n",
    "            all_labels.append(i)\n",
    "\n",
    "\n",
    "\n",
    "for var in all_imgs_path:\n",
    "    print(var)\n",
    "    data = pd.read_csv(var)\n",
    "    x_coords=data.values[0::,1]\n",
    "    y_coords=data.values[0::,2]\n",
    "    pressure=data.values[0::,3]\n",
    "    pressure = pressure-np.mean(pressure)\n",
    "# 创建一个白色背景的图像\n",
    "    img = Image.new('RGB', (240, 320), color='white')\n",
    "    draw = ImageDraw.Draw(img)\n",
    "\n",
    "\n",
    "    max_pressure = np.max(pressure)\n",
    "\n",
    "    for x, y, p in zip(x_coords, y_coords, pressure):\n",
    "        #print(p)\n",
    "        if p > 0:  # 只绘制压力大于0的点\n",
    "        \n",
    "            color = (int(p / max_pressure *255), 0, 0)  # 根据压力值生成颜色\n",
    "            draw.point((x, y), fill=color)\n",
    "\n",
    "\n",
    "\n",
    "\n",
    "    img = img.rotate(90)            \n",
    "    base_name = os.path.basename(var)  # 获取原始文件的基本名称\n",
    "    new_img_name = os.path.splitext(base_name)[0] + 'zeyang.png'  # 更改文件扩展名为.png\n",
    "    new_img_path = os.path.join(new_img_dir, new_img_name)  # 创建新的文件路径\n",
    "    \n",
    "    img.save(new_img_path)  # 保存图像到新的文件路径\n",
    "    # 保存到新的CSV文件"
   ]
  }
 ],
 "metadata": {
  "kernelspec": {
   "display_name": "lab",
   "language": "python",
   "name": "python3"
  },
  "language_info": {
   "codemirror_mode": {
    "name": "ipython",
    "version": 3
   },
   "file_extension": ".py",
   "mimetype": "text/x-python",
   "name": "python",
   "nbconvert_exporter": "python",
   "pygments_lexer": "ipython3",
   "version": "3.10.13"
  }
 },
 "nbformat": 4,
 "nbformat_minor": 2
}
